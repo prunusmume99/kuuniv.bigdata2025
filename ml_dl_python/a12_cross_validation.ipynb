{
 "cells": [
  {
   "cell_type": "code",
   "execution_count": null,
   "id": "723ab40c",
   "metadata": {},
   "outputs": [],
   "source": [
    "import pandas as pd\n",
    "\n",
    "wine = pd.read_csv(\"/home/yj/kuuniv.bigdata2025/ml_dl_python/data/wine_csv_data.csv\")"
   ]
  },
  {
   "cell_type": "code",
   "execution_count": null,
   "id": "127edf35",
   "metadata": {},
   "outputs": [],
   "source": [
    "data = wine[[\"alcohol\", \"sugar\", \"pH\"]].to_numpy()\n",
    "target = wine[[\"class\"]].to_numpy()"
   ]
  },
  {
   "cell_type": "code",
   "execution_count": null,
   "id": "99158b9e",
   "metadata": {},
   "outputs": [],
   "source": [
    "from sklearn.model_selection import train_test_split\n",
    "\n",
    "train_input, test_input, train_target, test_target = train_test_split(\n",
    "    data, target, test_size=0.2, random_state=42\n",
    ")"
   ]
  },
  {
   "cell_type": "code",
   "execution_count": null,
   "id": "d479d85a",
   "metadata": {},
   "outputs": [],
   "source": [
    "sub_input, val_input, sub_target, val_target = train_test_split(\n",
    "    train_input, train_target, test_size=0.2, random_state=42\n",
    ")"
   ]
  },
  {
   "cell_type": "code",
   "execution_count": null,
   "id": "64f33ab2",
   "metadata": {},
   "outputs": [],
   "source": [
    "print(sub_input.shape, val_input.shape, test_input.shape)"
   ]
  },
  {
   "cell_type": "code",
   "execution_count": null,
   "id": "fa3d166a",
   "metadata": {},
   "outputs": [],
   "source": [
    "from sklearn.tree import DecisionTreeClassifier\n",
    "\n",
    "dt = DecisionTreeClassifier(max_depth=3, random_state=42)\n",
    "dt.fit(sub_input, sub_target)\n",
    "\n",
    "print(dt.score(sub_input, sub_target))\n",
    "print(dt.score(test_input, test_target))"
   ]
  },
  {
   "cell_type": "code",
   "execution_count": null,
   "id": "562183c7",
   "metadata": {},
   "outputs": [],
   "source": [
    "# 교차검증\n",
    "from sklearn.model_selection import cross_validate\n",
    "\n",
    "scores = cross_validate(dt, train_input, train_target)\n",
    "print(scores)"
   ]
  },
  {
   "cell_type": "code",
   "execution_count": null,
   "id": "7c3eac39",
   "metadata": {},
   "outputs": [],
   "source": [
    "from sklearn.model_selection import StratifiedKFold\n",
    "import numpy as np\n",
    "\n",
    "scores = cross_validate(\n",
    "    dt,\n",
    "    train_input,\n",
    "    train_target,\n",
    "    cv=StratifiedKFold(n_splits=50, shuffle=True, random_state=42),\n",
    ")\n",
    "print(np.mean(scores[\"test_score\"]))"
   ]
  },
  {
   "cell_type": "code",
   "execution_count": null,
   "id": "03367a67",
   "metadata": {},
   "outputs": [],
   "source": [
    "from sklearn.model_selection import GridSearchCV\n",
    "\n",
    "params = {\"min_impurity_decrease\": [0.0001, 0.0002, 0.0003, 0.0004, 0.0005]}"
   ]
  },
  {
   "cell_type": "code",
   "execution_count": null,
   "id": "70c6e2b5",
   "metadata": {},
   "outputs": [],
   "source": [
    "gs = GridSearchCV(DecisionTreeClassifier(random_state=42), params, n_jobs=-1)"
   ]
  },
  {
   "cell_type": "code",
   "execution_count": null,
   "id": "bad2d994",
   "metadata": {},
   "outputs": [],
   "source": [
    "gs.fit(train_input, train_target)"
   ]
  },
  {
   "cell_type": "code",
   "execution_count": null,
   "id": "4e11e751",
   "metadata": {},
   "outputs": [],
   "source": [
    "dt = gs.best_estimator_\n",
    "print(dt.score(train_input, train_target))"
   ]
  },
  {
   "cell_type": "code",
   "execution_count": null,
   "id": "e7fc4c70",
   "metadata": {},
   "outputs": [],
   "source": [
    "print(gs.best_params_)"
   ]
  },
  {
   "cell_type": "code",
   "execution_count": null,
   "id": "4bc27987",
   "metadata": {},
   "outputs": [],
   "source": [
    "print(gs.cv_results_[\"mean_test_score\"])"
   ]
  },
  {
   "cell_type": "code",
   "execution_count": null,
   "id": "4f075d4a",
   "metadata": {},
   "outputs": [],
   "source": [
    "params = {\n",
    "    \"min_impurity_decrease\": np.arange(0.0001, 0.001, 0.0001),\n",
    "    \"max_depth\": range(5, 20, 1),\n",
    "    \"min_samples_split\": range(2, 100, 10),\n",
    "}"
   ]
  },
  {
   "cell_type": "code",
   "execution_count": null,
   "id": "dd259d11",
   "metadata": {},
   "outputs": [],
   "source": [
    "gs = GridSearchCV(DecisionTreeClassifier(random_state=42), params, n_jobs=-1)\n",
    "gs.fit(train_input, train_target)"
   ]
  },
  {
   "cell_type": "code",
   "execution_count": null,
   "id": "66cb741c",
   "metadata": {},
   "outputs": [],
   "source": [
    "print(gs.best_params_)"
   ]
  },
  {
   "cell_type": "code",
   "execution_count": null,
   "id": "dbe6b9be",
   "metadata": {},
   "outputs": [],
   "source": [
    "print(np.max(gs.cv_results_[\"mean_test_score\"]))"
   ]
  }
 ],
 "metadata": {
  "language_info": {
   "name": "python"
  }
 },
 "nbformat": 4,
 "nbformat_minor": 5
}
