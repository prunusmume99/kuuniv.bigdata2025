{
 "cells": [
  {
   "cell_type": "code",
   "execution_count": null,
   "id": "ecc9fa4b",
   "metadata": {},
   "outputs": [],
   "source": [
    "import pandas as pd\n",
    "\n",
    "data = pd.read_csv(\"/home/yj/kuuniv.bigdata2025/ml_dl_python/data/train.csv\")\n",
    "test = pd.read_csv(\"/home/yj/kuuniv.bigdata2025/ml_dl_python/data/test.csv\")\n",
    "print(data.info())\n",
    "print(data.head())"
   ]
  },
  {
   "cell_type": "code",
   "execution_count": null,
   "id": "e94d3aee",
   "metadata": {},
   "outputs": [],
   "source": [
    "train_df = data[[\"Pclass\", \"Age\", \"SibSp\", \"Fare\", \"Sex\", \"Embarked\", \"Survived\"]]\n",
    "test_df = test[[\"Pclass\", \"Age\", \"SibSp\", \"Fare\", \"Sex\", \"Embarked\"]]\n",
    "\n",
    "# 성별, 승선항구 등의 카테고리 인코딩\n",
    "from sklearn.preprocessing import LabelEncoder\n",
    "\n",
    "# 성별\n",
    "le_sex = LabelEncoder()\n",
    "train_df[\"Sex\"] = le_sex.fit_transform(train_df[\"Sex\"])\n",
    "test_df[\"Sex\"] = le_sex.transform(test_df[\"Sex\"])\n",
    "\n",
    "# 승선항구\n",
    "le_emb = LabelEncoder()\n",
    "train_df[\"Embarked\"] = le_emb.fit_transform(train_df[\"Embarked\"])\n",
    "test_df[\"Embarked\"] = le_emb.transform(test_df[\"Embarked\"])\n",
    "\n",
    "df_input = train_df.iloc[:, :-1].values\n",
    "df_target = train_df.iloc[:, -1].values\n",
    "\n",
    "from sklearn.model_selection import train_test_split\n",
    "\n",
    "X_train, X_test, y_train, y_test = train_test_split(df_input, df_target, test_size=0.2)\n",
    "from xgboost import XGBClassifier\n",
    "\n",
    "xgb = XGBClassifier(tree_method=\"hist\")\n",
    "xgb.fit(X_train, y_train)\n",
    "from sklearn.metrics import accuracy_score\n",
    "\n",
    "y_pred = xgb.predict(X_test)\n",
    "accurate = accuracy_score(y_test, y_pred)\n",
    "print(accurate)"
   ]
  },
  {
   "cell_type": "code",
   "execution_count": null,
   "id": "62c84114",
   "metadata": {},
   "outputs": [],
   "source": [
    "print(test.info())"
   ]
  },
  {
   "cell_type": "code",
   "execution_count": null,
   "id": "6bc5e472",
   "metadata": {},
   "outputs": [],
   "source": [
    "pred_test = xgb.predict(test_df)\n",
    "pred_test.astype(int)\n",
    "submisstion = pd.DataFrame({\"PassengerId\": test[\"PassengerId\"], \"Survived\": pred_test})"
   ]
  },
  {
   "cell_type": "code",
   "execution_count": null,
   "id": "93dc3774",
   "metadata": {},
   "outputs": [],
   "source": [
    "submisstion.info()\n",
    "submisstion.head()"
   ]
  },
  {
   "cell_type": "code",
   "execution_count": null,
   "id": "f61f51aa",
   "metadata": {},
   "outputs": [],
   "source": [
    "submisstion.to_csv(\"/home/yj/kuuniv.bigdata2025/ml_dl_python/data/xgb_titanic.csv\", index=False)"
   ]
  }
 ],
 "metadata": {
  "language_info": {
   "name": "python"
  }
 },
 "nbformat": 4,
 "nbformat_minor": 5
}
