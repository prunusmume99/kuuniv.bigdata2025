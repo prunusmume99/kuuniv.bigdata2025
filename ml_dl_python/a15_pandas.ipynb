{
 "cells": [
  {
   "cell_type": "code",
   "execution_count": null,
   "metadata": {},
   "outputs": [],
   "source": [
    "import numpy as np\n",
    "import pandas as pd"
   ]
  },
  {
   "cell_type": "code",
   "execution_count": null,
   "metadata": {},
   "outputs": [],
   "source": [
    "arr = np.arange(100, 105)\n",
    "print(arr)\n",
    "s1 = pd.Series(arr)\n",
    "s2 = pd.Series(arr, dtype=\"int32\")\n",
    "s3 = pd.Series([\"부장\", \"차장\", \"대리\", \"사원\", \"인턴\"])\n",
    "print(s1, s2, s3, sep=\"\\n\")"
   ]
  },
  {
   "cell_type": "code",
   "execution_count": null,
   "metadata": {},
   "outputs": [],
   "source": [
    "print(s3[0])\n",
    "print(s2[[1, 2, 3]])  # fancy 인덱싱\n",
    "print(s3[np.arange(1, 4, 2)])  # fancy 인덱싱 -> bool 인덱싱\n",
    "print(s2[s2 > 103])"
   ]
  },
  {
   "cell_type": "code",
   "execution_count": null,
   "metadata": {},
   "outputs": [],
   "source": [
    "s = pd.Series(\n",
    "    [\"마케팅\", \"경영\", \"개발\", \"기획\", \"인사\"], index=[\"a\", \"b\", \"c\", \"d\", \"e\"]\n",
    ")\n",
    "print(s)"
   ]
  },
  {
   "cell_type": "code",
   "execution_count": null,
   "metadata": {},
   "outputs": [],
   "source": [
    "print(s[\"a\"])"
   ]
  },
  {
   "cell_type": "code",
   "execution_count": null,
   "metadata": {},
   "outputs": [],
   "source": [
    "s2 = pd.Series([\"선화\", \"강호\", np.nan, \"소정\", \"우영\"])"
   ]
  },
  {
   "cell_type": "code",
   "execution_count": null,
   "metadata": {},
   "outputs": [],
   "source": [
    "print(s2.isnull())\n",
    "print(s2.isna())\n",
    "print(s2.notnull())\n",
    "print(s2[s2.notnull()])"
   ]
  },
  {
   "cell_type": "code",
   "execution_count": null,
   "metadata": {},
   "outputs": [],
   "source": [
    "# 50개의 랜덤 (100~200) 생성 후 160 이상만 출력\n",
    "np.random.seed(20)\n",
    "sample = pd.Series(np.random.randint(100, 200, size=(50,)))\n",
    "print(sample[sample > 160])"
   ]
  },
  {
   "cell_type": "code",
   "execution_count": null,
   "metadata": {},
   "outputs": [],
   "source": [
    "df = pd.DataFrame(\n",
    "    [[1, 2, 3], [4, 5, 6], [7, 8, 9]], columns=[\"가\", \"나\", \"다\"], index=[\"a\", \"b\", \"c\"]\n",
    ")\n",
    "print(df)"
   ]
  },
  {
   "cell_type": "code",
   "execution_count": null,
   "metadata": {},
   "outputs": [],
   "source": [
    "df = pd.DataFrame(np.arange(60).reshape(6, 10))\n",
    "print(df.info())"
   ]
  },
  {
   "cell_type": "code",
   "execution_count": null,
   "metadata": {},
   "outputs": [],
   "source": [
    "df = pd.DataFrame(\n",
    "    {\"name\": [\"kim\", \"lee\", \"park\"], \"age\": [24, 26, 30], \"childrun\": [2, 1, 3]}\n",
    ")\n",
    "print(df)"
   ]
  },
  {
   "cell_type": "code",
   "execution_count": null,
   "metadata": {},
   "outputs": [],
   "source": [
    "df = pd.read_csv(\"/home/yj/kuuniv.bigdata2025/ml_dl_python/data/fish_csv_data.csv\")\n",
    "print(df)"
   ]
  },
  {
   "cell_type": "code",
   "execution_count": null,
   "metadata": {},
   "outputs": [],
   "source": [
    "!pip install openpyxl\n",
    "\n",
    "df = pd.read_excel(\"/home/yj/kuuniv.bigdata2025/ml_dl_python/data/exel_test.xlsx\")\n",
    "print(df.info())\n",
    "print(df.head())"
   ]
  },
  {
   "cell_type": "code",
   "execution_count": null,
   "metadata": {},
   "outputs": [],
   "source": [
    "print(df)"
   ]
  },
  {
   "cell_type": "code",
   "execution_count": null,
   "metadata": {},
   "outputs": [],
   "source": [
    "df.to_csv(\"/home/yj/kuuniv.bigdata2025/ml_dl_python/data/csv_test.csv\")"
   ]
  },
  {
   "cell_type": "code",
   "execution_count": null,
   "metadata": {},
   "outputs": [],
   "source": [
    "# 조회, 정렬, 조건 필터\n",
    "df = pd.read_csv(\"/home/yj/kuuniv.bigdata2025/ml_dl_python/data/train.csv\")\n",
    "print(df.info())\n",
    "print(df.head())"
   ]
  },
  {
   "cell_type": "code",
   "execution_count": null,
   "metadata": {},
   "outputs": [],
   "source": [
    "print(df[\"Sex\"].value_counts())"
   ]
  },
  {
   "cell_type": "code",
   "execution_count": null,
   "metadata": {},
   "outputs": [],
   "source": [
    "df[\"Pclass\"] = df[\"Pclass\"].astype(\"int8\")\n",
    "print(df.info())"
   ]
  },
  {
   "cell_type": "code",
   "execution_count": null,
   "metadata": {},
   "outputs": [],
   "source": [
    "df.sort_values(by=\"Age\", ascending=False, inplace=True)\n",
    "print(df)"
   ]
  },
  {
   "cell_type": "code",
   "execution_count": null,
   "metadata": {},
   "outputs": [],
   "source": [
    "cond = df[\"Age\"] <= 70\n",
    "cond2 = df[\"Age\"] >= 60\n",
    "# print(df[cond & cond2].info())\n",
    "print(df.loc[cond & cond2, [\"Name\", \"Age\", \"Sex\"]])"
   ]
  },
  {
   "cell_type": "code",
   "execution_count": null,
   "metadata": {},
   "outputs": [],
   "source": [
    "df = pd.read_csv(\"/home/yj/kuuniv.bigdata2025/ml_dl_python/data/train.csv\")\n",
    "df.describe()"
   ]
  },
  {
   "cell_type": "code",
   "execution_count": null,
   "metadata": {},
   "outputs": [],
   "source": [
    "print(df[\"Age\"].var())\n",
    "print(df[\"Age\"].mean())\n",
    "cond = df[\"Age\"] <= 50\n",
    "cond2 = df[\"Age\"] >= 40\n",
    "print(df.loc[cond & cond2, [\"Age\"]].mean())\n",
    "print(df.loc[cond & cond2, [\"Age\"]].sum())"
   ]
  }
 ],
 "metadata": {
  "language_info": {
   "name": "python"
  }
 },
 "nbformat": 4,
 "nbformat_minor": 2
}
