{
 "cells": [
  {
   "cell_type": "markdown",
   "metadata": {},
   "source": [
    "# 브로드 캐스팅"
   ]
  },
  {
   "cell_type": "code",
   "execution_count": 6,
   "metadata": {},
   "outputs": [],
   "source": [
    "import numpy as np"
   ]
  },
  {
   "cell_type": "code",
   "execution_count": 7,
   "metadata": {},
   "outputs": [
    {
     "name": "stdout",
     "output_type": "stream",
     "text": [
      "[[ 1.  2.  3.  4.]\n",
      " [ 5.  6.  7.  8.]\n",
      " [ 9. 10. 11. 12.]]\n",
      "[1 2 3 4]\n",
      "[[1]\n",
      " [2]\n",
      " [3]\n",
      " [4]]\n",
      "[[[ 1.  2.  3.  4.]]\n",
      "\n",
      " [[ 5.  6.  7.  8.]]\n",
      "\n",
      " [[ 9. 10. 11. 12.]]]\n"
     ]
    }
   ],
   "source": [
    "a1 = np.linspace(1, 12, 12).reshape(3, 4)\n",
    "a2 = np.arange(1, 5) # [1,2,3,4] , 가로 벡터\n",
    "a3 = a2.reshape(4, 1) # [1,2,3,4] , 세로 벡터\n",
    "a4 = a1.reshape(3,1,4) # 3차원 행렬\n",
    "print(a1)\n",
    "print(a2)\n",
    "print(a3)\n",
    "print(a4)\n"
   ]
  },
  {
   "cell_type": "code",
   "execution_count": 9,
   "metadata": {},
   "outputs": [
    {
     "name": "stdout",
     "output_type": "stream",
     "text": [
      "[[ 2.  4.  6.  8.]\n",
      " [ 6.  8. 10. 12.]\n",
      " [10. 12. 14. 16.]]\n",
      "(3, 4)\n",
      "[[2 3 4 5]\n",
      " [3 4 5 6]\n",
      " [4 5 6 7]\n",
      " [5 6 7 8]]\n",
      "(4, 4)\n",
      "[[[ 2.  4.  6.  8.]\n",
      "  [ 6.  8. 10. 12.]\n",
      "  [10. 12. 14. 16.]]\n",
      "\n",
      " [[ 6.  8. 10. 12.]\n",
      "  [10. 12. 14. 16.]\n",
      "  [14. 16. 18. 20.]]\n",
      "\n",
      " [[10. 12. 14. 16.]\n",
      "  [14. 16. 18. 20.]\n",
      "  [18. 20. 22. 24.]]]\n",
      "(3, 3, 4)\n"
     ]
    }
   ],
   "source": [
    "print(a1 + a2)\n",
    "print((a1 + a2).shape)\n",
    "print(a2+a3)\n",
    "print((a2+a3).shape)\n",
    "print(a1+a4)\n",
    "print((a1+a4).shape)"
   ]
  },
  {
   "cell_type": "markdown",
   "metadata": {},
   "source": [
    "# 넘파이 인덱싱"
   ]
  },
  {
   "cell_type": "code",
   "execution_count": 13,
   "metadata": {},
   "outputs": [
    {
     "name": "stdout",
     "output_type": "stream",
     "text": [
      "[  1   4   9  16  25  36  49  64  81 100]\n",
      "[ 9 16 25 36 49 64 81]\n",
      "100, 81, 64, 10000, 36, 10000, 13, 10000, 4, 1, \n"
     ]
    }
   ],
   "source": [
    "a1 = np.arange(1,10+1) **2\n",
    "a2 = a1[2:9]\n",
    "print(a1)\n",
    "print(a2)\n",
    "\n",
    "a1[3] = a1[1] + a1[2] # 원소의 변경\n",
    "a2[5:2] # 슬라이싱\n",
    "a2[:5:2] = 10_000 \n",
    "# for i in range(len(a1)):\n",
    "#     print(a1[(i+1)*-1], end=', ')\n",
    "print(a1[::-1])\n",
    "print()"
   ]
  },
  {
   "cell_type": "code",
   "execution_count": null,
   "metadata": {},
   "outputs": [],
   "source": [
    "a1 = np.fromfunction(lambda i, j: (i+1) * (j+1), (9,9), dtype=int)"
   ]
  }
 ],
 "metadata": {
  "kernelspec": {
   "display_name": "Python 3",
   "language": "python",
   "name": "python3"
  },
  "language_info": {
   "codemirror_mode": {
    "name": "ipython",
    "version": 3
   },
   "file_extension": ".py",
   "mimetype": "text/x-python",
   "name": "python",
   "nbconvert_exporter": "python",
   "pygments_lexer": "ipython3",
   "version": "3.10.12"
  }
 },
 "nbformat": 4,
 "nbformat_minor": 2
}
